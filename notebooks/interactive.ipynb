{
 "cells": [
  {
   "cell_type": "code",
   "execution_count": null,
   "metadata": {},
   "outputs": [],
   "source": [
    "%pip install --upgrade pip -q\n",
    "%pip install python-dotenv -q"
   ]
  },
  {
   "cell_type": "code",
   "execution_count": null,
   "metadata": {},
   "outputs": [],
   "source": [
    "import sys\n",
    "sys.path.append(\"..\") # Adds higher directory to python modules path."
   ]
  },
  {
   "cell_type": "code",
   "execution_count": null,
   "metadata": {},
   "outputs": [],
   "source": [
    "from dotenv import load_dotenv\n",
    "from pathlib import Path\n",
    "env_path = Path('../.env')\n",
    "load_dotenv(dotenv_path=env_path)"
   ]
  },
  {
   "cell_type": "code",
   "execution_count": null,
   "metadata": {},
   "outputs": [],
   "source": [
    "import os\n",
    "\n",
    "from alclient.game import Game\n",
    "from alclient.log import setup_loggers\n",
    "from alclient.login.facade import LoginFacade\n",
    "from alclient.domain.user import User"
   ]
  },
  {
   "cell_type": "code",
   "execution_count": null,
   "metadata": {},
   "outputs": [],
   "source": [
    "setup_loggers()\n",
    "email = os.environ[\"EMAIL\"]\n",
    "password = os.environ[\"PASSWORD\"]"
   ]
  },
  {
   "cell_type": "code",
   "execution_count": null,
   "metadata": {},
   "outputs": [],
   "source": [
    "user = User(email, password)\n",
    "login_facade = LoginFacade()\n",
    "await login_facade.login_api(user)\n",
    "game = Game(user)\n",
    "server = game.select_server(\"EUI\")"
   ]
  },
  {
   "cell_type": "code",
   "execution_count": null,
   "metadata": {},
   "outputs": [],
   "source": [
    "character = game.select_characters(\"DwalinOak\")\n",
    "character.session = user.session\n",
    "character.user_id = user.id\n",
    "character.name"
   ]
  },
  {
   "cell_type": "code",
   "execution_count": null,
   "metadata": {},
   "outputs": [],
   "source": [
    "await character.connect(server.uri)"
   ]
  },
  {
   "cell_type": "code",
   "execution_count": null,
   "metadata": {},
   "outputs": [],
   "source": [
    "async def move_character(character,x, y):\n",
    "    \"\"\"\n",
    "    Move character to coordinates.\n",
    "\n",
    "    If coordinates point to a place where a character cannot go.\n",
    "    it will be sent to jail to jail.\n",
    "\n",
    "    Character will not pass over objects.\n",
    "\n",
    "    # Map:\n",
    "    # https://adventure.land/data.js\n",
    "\n",
    "    \"\"\"\n",
    "    await character.socket.emit(\n",
    "        \"move\",\n",
    "        {\n",
    "            \"x\": character.x,\n",
    "            \"y\": character.y,\n",
    "            \"m\": 0,\n",
    "            \"going_x\": x,\n",
    "            \"going_y\": y,\n",
    "        },\n",
    "    )\n",
    "    character.x = x\n",
    "    character.y = y\n"
   ]
  },
  {
   "cell_type": "code",
   "execution_count": null,
   "metadata": {},
   "outputs": [],
   "source": [
    "await move_character(character, 199.44566583459607, -72.25888232616722)"
   ]
  },
  {
   "cell_type": "code",
   "execution_count": null,
   "metadata": {},
   "outputs": [],
   "source": [
    "await move_character(character, 200.23198056426486, -50.0000001)"
   ]
  },
  {
   "cell_type": "code",
   "execution_count": null,
   "metadata": {},
   "outputs": [],
   "source": [
    "# await character.stop()\n",
    "# logout_response = await user.logout_everywhere()\n",
    "# logout_response"
   ]
  }
 ],
 "metadata": {
  "interpreter": {
   "hash": "7ef1d8702bd204ca4fb79f093ad3dff19e0f81575bc56c77f9059eae4f44e426"
  },
  "kernelspec": {
   "display_name": "Python 3.10.0 ('venv': venv)",
   "language": "python",
   "name": "python3"
  },
  "language_info": {
   "codemirror_mode": {
    "name": "ipython",
    "version": 3
   },
   "file_extension": ".py",
   "mimetype": "text/x-python",
   "name": "python",
   "nbconvert_exporter": "python",
   "pygments_lexer": "ipython3",
   "version": "3.10.0"
  },
  "orig_nbformat": 4
 },
 "nbformat": 4,
 "nbformat_minor": 2
}
